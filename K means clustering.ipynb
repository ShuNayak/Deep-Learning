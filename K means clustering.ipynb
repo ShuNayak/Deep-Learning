{
 "cells": [
  {
   "cell_type": "code",
   "execution_count": 21,
   "metadata": {},
   "outputs": [],
   "source": [
    "#we will try to create k clusters from n people , this is fake data built by us\n",
    "import numpy as np\n",
    "import pandas as pd\n",
    "import random\n",
    "def createCluster(n, k):\n",
    "    random.seed(16)\n",
    "    pointsInCluster = float(n)/k\n",
    "    x = []\n",
    "    for i in range(k):\n",
    "        incomeCentroid = random.uniform(2000.0,70000.0)\n",
    "        ageCentroid = random.uniform(20.0,70.0)\n",
    "        for j in range(int(pointsInCluster)):\n",
    "            x.append([np.random.normal(incomeCentroid, 1000), np.random.normal(ageCentroid, 10)])\n",
    "        x = np.array(x)\n",
    "        return x\n",
    "        \n",
    "    "
   ]
  },
  {
   "cell_type": "code",
   "execution_count": 22,
   "metadata": {},
   "outputs": [
    {
     "name": "stdout",
     "output_type": "stream",
     "text": [
      "[[2.66569948e+04 4.68046222e+01]\n",
      " [2.71142676e+04 4.13057140e+01]\n",
      " [2.78904811e+04 4.19856973e+01]\n",
      " [2.76921909e+04 4.95914150e+01]\n",
      " [2.62572683e+04 2.23972433e+01]\n",
      " [2.58176552e+04 4.81413179e+01]\n",
      " [2.73075661e+04 3.94806984e+01]\n",
      " [2.64885613e+04 4.47277045e+01]\n",
      " [2.73051639e+04 5.09111779e+01]\n",
      " [2.67272307e+04 4.07514297e+01]\n",
      " [2.71768682e+04 6.27908668e+01]\n",
      " [2.82022798e+04 3.81705539e+01]\n",
      " [2.80738777e+04 4.99196056e+01]\n",
      " [2.53547669e+04 1.55655720e+01]\n",
      " [2.50940643e+04 4.85458700e+01]\n",
      " [2.67965915e+04 4.36804338e+01]\n",
      " [2.62419054e+04 4.79395330e+01]\n",
      " [2.59878570e+04 5.19358480e+01]\n",
      " [2.69406240e+04 5.50630061e+01]\n",
      " [2.72270020e+04 5.99960680e+01]]\n",
      "[1 1 3 3 0 4 1 1 2 1 2 3 3 0 4 1 4 4 2 2]\n"
     ]
    }
   ],
   "source": [
    "#using k-means from sklearn to rediscover these clusters\n",
    "from sklearn.cluster import KMeans\n",
    "import matplotlib.pyplot as plt\n",
    "from sklearn.preprocessing import scale\n",
    "\n",
    "data = createCluster(100,5)\n",
    "print(data)\n",
    "model = KMeans(n_clusters=5)\n",
    "model = model.fit(scale(data))\n",
    "print (model.labels_)\n"
   ]
  },
  {
   "cell_type": "code",
   "execution_count": 23,
   "metadata": {},
   "outputs": [
    {
     "data": {
      "text/plain": [
       "<matplotlib.collections.PathCollection at 0x2728a3f1908>"
      ]
     },
     "execution_count": 23,
     "metadata": {},
     "output_type": "execute_result"
    },
    {
     "data": {
      "image/png": "[encoded data removed]",
      "text/plain": [
       "<Figure size 432x288 with 1 Axes>"
      ]
     },
     "metadata": {
      "needs_background": "light"
     },
     "output_type": "display_data"
    }
   ],
   "source": [
    "#visualizing it\n",
    "import matplotlib.pyplot as plt\n",
    "%matplotlib inline\n",
    "\n",
    "plt.scatter(data[:,0], data[:,1], c= model.labels_.astype(np.float))\n"
   ]
  },
  {
   "cell_type": "code",
   "execution_count": null,
   "metadata": {},
   "outputs": [],
   "source": []
  }
 ],
 "metadata": {
  "kernelspec": {
   "display_name": "Python 3",
   "language": "python",
   "name": "python3"
  },
  "language_info": {
   "codemirror_mode": {
    "name": "ipython",
    "version": 3
   },
   "file_extension": ".py",
   "mimetype": "text/x-python",
   "name": "python",
   "nbconvert_exporter": "python",
   "pygments_lexer": "ipython3",
   "version": "3.7.3"
  }
 },
 "nbformat": 4,
 "nbformat_minor": 4
}
