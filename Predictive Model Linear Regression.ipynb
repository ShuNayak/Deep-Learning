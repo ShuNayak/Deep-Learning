{
 "cells": [
  {
   "cell_type": "markdown",
   "metadata": {},
   "source": [
    "Fit a line to a data set of observations. Use this line to predict unobserved values.\n",
    "\n",
    "1. LR is also called sometimes as maximum likelihood estimation\n",
    "2. Least squares minimizes the sum of squared errors and is one example for LR\n",
    "3. Gradient Descent is an alternate method to least squares.\n",
    "4. Measure of how well the line fits our data is called R- squared (coefficient of determination)\n",
    "5. computing the r-squared:  1.0-(sum of squared errors)/ sum of squared variation from mean ; 0 is bad none of the variance is captured and 1 is good all of variance is captured.\n",
    "\n"
   ]
  },
  {
   "cell_type": "code",
   "execution_count": 3,
   "metadata": {},
   "outputs": [
    {
     "data": {
      "text/plain": [
       "<matplotlib.collections.PathCollection at 0x1e88fb1c940>"
      ]
     },
     "execution_count": 3,
     "metadata": {},
     "output_type": "execute_result"
    },
    {
     "data": {
      "image/png": "[encoded data removed]",
      "text/plain": [
       "<Figure size 432x288 with 1 Axes>"
      ]
     },
     "metadata": {
      "needs_background": "light"
     },
     "output_type": "display_data"
    }
   ],
   "source": [
    "import numpy as np\n",
    "import matplotlib.pyplot as plt\n",
    "%matplotlib inline\n",
    "\n",
    "pageSpeeds = np.random.normal(3,1,1000)\n",
    "purchase = 300+(pageSpeeds)*3\n",
    "plt.scatter(pageSpeeds, purchase)\n"
   ]
  },
  {
   "cell_type": "code",
   "execution_count": 5,
   "metadata": {},
   "outputs": [],
   "source": [
    "#finding the best fit line using ordinary least squares\n",
    "from scipy import stats\n",
    "slope , intercept, r_value, p_value, std_err = stats.linregress(pageSpeeds, purchase)"
   ]
  },
  {
   "cell_type": "code",
   "execution_count": 6,
   "metadata": {},
   "outputs": [
    {
     "data": {
      "text/plain": [
       "0.9999999999999993"
      ]
     },
     "execution_count": 6,
     "metadata": {},
     "output_type": "execute_result"
    }
   ],
   "source": [
    "r_value**2"
   ]
  },
  {
   "cell_type": "code",
   "execution_count": null,
   "metadata": {},
   "outputs": [],
   "source": []
  }
 ],
 "metadata": {
  "kernelspec": {
   "display_name": "Python 3",
   "language": "python",
   "name": "python3"
  },
  "language_info": {
   "codemirror_mode": {
    "name": "ipython",
    "version": 3
   },
   "file_extension": ".py",
   "mimetype": "text/x-python",
   "name": "python",
   "nbconvert_exporter": "python",
   "pygments_lexer": "ipython3",
   "version": "3.7.3"
  }
 },
 "nbformat": 4,
 "nbformat_minor": 4
}
