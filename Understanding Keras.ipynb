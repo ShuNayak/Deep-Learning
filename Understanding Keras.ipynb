{
 "cells": [
  {
   "cell_type": "markdown",
   "metadata": {},
   "source": [
    "Higher level API called Keras, built on top of tensorflow. While building the neural network instead of seeing the network as a collection of neurons , using tensorflow we are looking into tensors and multiplications which is not inefficient but we can go wrong.\n",
    "In Tensorflow we must think of every little detail of linear algebra and we may go wrong somewhere.\n",
    "\n",
    "The more time you spend on topology and tuning of the network than imlementation the better resukts at end of the day.Keras is just a top layer on tensorflow that makes deep learning easier.\n",
    "\n",
    "\n",
    "\n"
   ]
  },
  {
   "cell_type": "code",
   "execution_count": null,
   "metadata": {},
   "outputs": [],
   "source": []
  }
 ],
 "metadata": {
  "kernelspec": {
   "display_name": "Python 3",
   "language": "python",
   "name": "python3"
  },
  "language_info": {
   "codemirror_mode": {
    "name": "ipython",
    "version": 3
   },
   "file_extension": ".py",
   "mimetype": "text/x-python",
   "name": "python",
   "nbconvert_exporter": "python",
   "pygments_lexer": "ipython3",
   "version": "3.7.3"
  }
 },
 "nbformat": 4,
 "nbformat_minor": 4
}
