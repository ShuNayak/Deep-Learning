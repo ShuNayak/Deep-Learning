{
 "cells": [
  {
   "cell_type": "markdown",
   "metadata": {},
   "source": [
    "Tensorflow was not specifically built for neural networks, it is more generally an architecture for executing a graph of numerical operations.\n",
    "You can have any sequence of operations and have a graph of how those operations fit together.\n",
    "Tensorflow optimizes the processing by distributing it on various cores of your GPU, or various machines on a network.\n",
    "Runs on anything.\n",
    "So you can train the model, put the weights in the machines you want to run it on. So train the model offline and then push it to the machine of your choice. Tensorflow is written in C++ with easy to use Python APIs(interface).\n",
    "\n",
    "Tensor : a tensor is just a fancy name for an array/ matrix of values. You build a graph of how things are to be executed. Tensorflow then distributes the task and executes.\n",
    "\n",
    "example:\n",
    "import tensorflow as tf\n",
    "a = tf.Variable(1, name=\"a\")\n",
    "b = tf.variable(2, name=\"b\")\n",
    "f = a+b    , f is a graph here, it doesnt put a+b value in f, it just establishes relationship between a and be and thier dependency on graph f. Nothing happens until we invoke 'f'. So that will distribute this extremely complicated task (:-D) across the cluster and finally we have the new tensor which is 3.\n",
    "\n",
    "\n"
   ]
  },
  {
   "cell_type": "markdown",
   "metadata": {},
   "source": [
    "Creating Neural Networks using Tensorflow:\n",
    "All the sums and multiplication that happen within single layer of perceptron and model it as a matrix multiplication.\n",
    "\n",
    "Take the output of the previous layer in the multilayer perceptron, and do a matrix multiplication with a matrix that describes the weights between each neuron of the two layers that you are computing. Then you can also add in a vector that contains the bias terms as well.\n",
    "\n",
    "1. Load up training and testing data.\n",
    "2. Construct a graph describing our neural network.\n",
    "3. Associate an optimizer( i.e gradient descent) to the network.\n",
    "4. Run the optimizer with the training data.\n",
    "5. Evaluate your trained network with your testing data.\n",
    "\n",
    "Neural networks work best if the input data is normalized. That is 0 mean, unit variance. The real goal is that every input feature is comparable in terms of magnitude.\n",
    "\n",
    "\n",
    "\n",
    "    "
   ]
  },
  {
   "cell_type": "code",
   "execution_count": null,
   "metadata": {},
   "outputs": [],
   "source": []
  }
 ],
 "metadata": {
  "kernelspec": {
   "display_name": "Python 3",
   "language": "python",
   "name": "python3"
  },
  "language_info": {
   "codemirror_mode": {
    "name": "ipython",
    "version": 3
   },
   "file_extension": ".py",
   "mimetype": "text/x-python",
   "name": "python",
   "nbconvert_exporter": "python",
   "pygments_lexer": "ipython3",
   "version": "3.7.3"
  }
 },
 "nbformat": 4,
 "nbformat_minor": 4
}
